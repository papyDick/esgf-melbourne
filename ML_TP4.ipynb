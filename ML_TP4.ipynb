{
  "nbformat": 4,
  "nbformat_minor": 0,
  "metadata": {
    "colab": {
      "name": "ML_TP4",
      "provenance": [],
      "collapsed_sections": [],
      "include_colab_link": true
    },
    "kernelspec": {
      "name": "python3",
      "display_name": "Python 3"
    },
    "language_info": {
      "name": "python"
    }
  },
  "cells": [
    {
      "cell_type": "markdown",
      "metadata": {
        "id": "view-in-github",
        "colab_type": "text"
      },
      "source": [
        "<a href=\"https://colab.research.google.com/github/papyDick/esgf-melbourne/blob/main/ML_TP4.ipynb\" target=\"_parent\"><img src=\"https://colab.research.google.com/assets/colab-badge.svg\" alt=\"Open In Colab\"/></a>"
      ]
    },
    {
      "cell_type": "markdown",
      "source": [
        "## Machine Learning Project (TP4): Melbourne Temperation Prediction\n",
        "\n",
        "#### Groupe Members: \n",
        "##### ***Bah Ibrahima Sory Bhoundoubhe***\n",
        "##### ***BIRO Yawa grace***\n",
        "##### ***OGANDAGA-ABAGA Rosaly-fiestane-denysia***\n",
        "##### ***DICKO Alhassane***"
      ],
      "metadata": {
        "id": "TP1K-YfczRwK"
      }
    },
    {
      "cell_type": "markdown",
      "source": [
        "### Importing the libraries"
      ],
      "metadata": {
        "id": "PXXutQHt1YKo"
      }
    },
    {
      "cell_type": "code",
      "execution_count": 63,
      "metadata": {
        "id": "c5VZT9a8WBrf"
      },
      "outputs": [],
      "source": [
        "import matplotlib.pyplot as plt\n",
        "import pandas as pd\n",
        "import seaborn as sns\n",
        "import numpy as np\n",
        "import math\n",
        "from keras.models import Sequential\n",
        "from keras.layers import Dense\n",
        "from keras.layers import LSTM, SimpleRNN\n",
        "from sklearn.preprocessing import MinMaxScaler\n",
        "from sklearn.metrics import mean_squared_error\n",
        "import time"
      ]
    },
    {
      "cell_type": "markdown",
      "source": [
        "# Getting the data"
      ],
      "metadata": {
        "id": "nL_CDdF315kK"
      }
    },
    {
      "cell_type": "code",
      "source": [
        "import urllib.request\n",
        "import pandas as pd\n",
        "from io import StringIO\n",
        "\n",
        "\n",
        "def get_melbourne_data() -> pd.DataFrame:\n",
        "    '''\n",
        "    Returns a dataframe of the melbourne data set.\n",
        "    :return: pd.DataFrame\n",
        "    '''\n",
        "\n",
        "    # URL of the raw csv data to download\n",
        "    raw_url = \"https://raw.githubusercontent.com/jbrownlee/Datasets/master/daily-min-temperatures.csv\"\n",
        "\n",
        "    # Get the earthquake data from the API\n",
        "    response = urllib.request.urlopen(raw_url)\n",
        "\n",
        "    # Decode earthquake data\n",
        "    response = response.read().decode('utf-8')\n",
        "\n",
        "    # Return as a pandas dataframe\n",
        "    data = pd.read_csv(StringIO(response))\n",
        "\n",
        "    # Cast the date column to datetime\n",
        "    data['Date'] = pd.to_datetime(data['Date'])\n",
        "\n",
        "    return data"
      ],
      "metadata": {
        "id": "8oWjpDLRE-kD"
      },
      "execution_count": 64,
      "outputs": []
    },
    {
      "cell_type": "code",
      "source": [
        "import pandas as pd\n",
        "dataset = get_melbourne_data()"
      ],
      "metadata": {
        "id": "Jolbwrm6WLIw"
      },
      "execution_count": 85,
      "outputs": []
    },
    {
      "cell_type": "code",
      "source": [
        "dataset.head()"
      ],
      "metadata": {
        "colab": {
          "base_uri": "https://localhost:8080/",
          "height": 206
        },
        "id": "lTjpx4VSWYCj",
        "outputId": "018201d6-7f3d-4f0d-ad30-9b98c01e0fc6"
      },
      "execution_count": 86,
      "outputs": [
        {
          "output_type": "execute_result",
          "data": {
            "text/plain": [
              "        Date  Temp\n",
              "0 1981-01-01  20.7\n",
              "1 1981-01-02  17.9\n",
              "2 1981-01-03  18.8\n",
              "3 1981-01-04  14.6\n",
              "4 1981-01-05  15.8"
            ],
            "text/html": [
              "\n",
              "  <div id=\"df-1ac6e5f8-05a5-4e2a-a38b-e15bf9f8fac3\">\n",
              "    <div class=\"colab-df-container\">\n",
              "      <div>\n",
              "<style scoped>\n",
              "    .dataframe tbody tr th:only-of-type {\n",
              "        vertical-align: middle;\n",
              "    }\n",
              "\n",
              "    .dataframe tbody tr th {\n",
              "        vertical-align: top;\n",
              "    }\n",
              "\n",
              "    .dataframe thead th {\n",
              "        text-align: right;\n",
              "    }\n",
              "</style>\n",
              "<table border=\"1\" class=\"dataframe\">\n",
              "  <thead>\n",
              "    <tr style=\"text-align: right;\">\n",
              "      <th></th>\n",
              "      <th>Date</th>\n",
              "      <th>Temp</th>\n",
              "    </tr>\n",
              "  </thead>\n",
              "  <tbody>\n",
              "    <tr>\n",
              "      <th>0</th>\n",
              "      <td>1981-01-01</td>\n",
              "      <td>20.7</td>\n",
              "    </tr>\n",
              "    <tr>\n",
              "      <th>1</th>\n",
              "      <td>1981-01-02</td>\n",
              "      <td>17.9</td>\n",
              "    </tr>\n",
              "    <tr>\n",
              "      <th>2</th>\n",
              "      <td>1981-01-03</td>\n",
              "      <td>18.8</td>\n",
              "    </tr>\n",
              "    <tr>\n",
              "      <th>3</th>\n",
              "      <td>1981-01-04</td>\n",
              "      <td>14.6</td>\n",
              "    </tr>\n",
              "    <tr>\n",
              "      <th>4</th>\n",
              "      <td>1981-01-05</td>\n",
              "      <td>15.8</td>\n",
              "    </tr>\n",
              "  </tbody>\n",
              "</table>\n",
              "</div>\n",
              "      <button class=\"colab-df-convert\" onclick=\"convertToInteractive('df-1ac6e5f8-05a5-4e2a-a38b-e15bf9f8fac3')\"\n",
              "              title=\"Convert this dataframe to an interactive table.\"\n",
              "              style=\"display:none;\">\n",
              "        \n",
              "  <svg xmlns=\"http://www.w3.org/2000/svg\" height=\"24px\"viewBox=\"0 0 24 24\"\n",
              "       width=\"24px\">\n",
              "    <path d=\"M0 0h24v24H0V0z\" fill=\"none\"/>\n",
              "    <path d=\"M18.56 5.44l.94 2.06.94-2.06 2.06-.94-2.06-.94-.94-2.06-.94 2.06-2.06.94zm-11 1L8.5 8.5l.94-2.06 2.06-.94-2.06-.94L8.5 2.5l-.94 2.06-2.06.94zm10 10l.94 2.06.94-2.06 2.06-.94-2.06-.94-.94-2.06-.94 2.06-2.06.94z\"/><path d=\"M17.41 7.96l-1.37-1.37c-.4-.4-.92-.59-1.43-.59-.52 0-1.04.2-1.43.59L10.3 9.45l-7.72 7.72c-.78.78-.78 2.05 0 2.83L4 21.41c.39.39.9.59 1.41.59.51 0 1.02-.2 1.41-.59l7.78-7.78 2.81-2.81c.8-.78.8-2.07 0-2.86zM5.41 20L4 18.59l7.72-7.72 1.47 1.35L5.41 20z\"/>\n",
              "  </svg>\n",
              "      </button>\n",
              "      \n",
              "  <style>\n",
              "    .colab-df-container {\n",
              "      display:flex;\n",
              "      flex-wrap:wrap;\n",
              "      gap: 12px;\n",
              "    }\n",
              "\n",
              "    .colab-df-convert {\n",
              "      background-color: #E8F0FE;\n",
              "      border: none;\n",
              "      border-radius: 50%;\n",
              "      cursor: pointer;\n",
              "      display: none;\n",
              "      fill: #1967D2;\n",
              "      height: 32px;\n",
              "      padding: 0 0 0 0;\n",
              "      width: 32px;\n",
              "    }\n",
              "\n",
              "    .colab-df-convert:hover {\n",
              "      background-color: #E2EBFA;\n",
              "      box-shadow: 0px 1px 2px rgba(60, 64, 67, 0.3), 0px 1px 3px 1px rgba(60, 64, 67, 0.15);\n",
              "      fill: #174EA6;\n",
              "    }\n",
              "\n",
              "    [theme=dark] .colab-df-convert {\n",
              "      background-color: #3B4455;\n",
              "      fill: #D2E3FC;\n",
              "    }\n",
              "\n",
              "    [theme=dark] .colab-df-convert:hover {\n",
              "      background-color: #434B5C;\n",
              "      box-shadow: 0px 1px 3px 1px rgba(0, 0, 0, 0.15);\n",
              "      filter: drop-shadow(0px 1px 2px rgba(0, 0, 0, 0.3));\n",
              "      fill: #FFFFFF;\n",
              "    }\n",
              "  </style>\n",
              "\n",
              "      <script>\n",
              "        const buttonEl =\n",
              "          document.querySelector('#df-1ac6e5f8-05a5-4e2a-a38b-e15bf9f8fac3 button.colab-df-convert');\n",
              "        buttonEl.style.display =\n",
              "          google.colab.kernel.accessAllowed ? 'block' : 'none';\n",
              "\n",
              "        async function convertToInteractive(key) {\n",
              "          const element = document.querySelector('#df-1ac6e5f8-05a5-4e2a-a38b-e15bf9f8fac3');\n",
              "          const dataTable =\n",
              "            await google.colab.kernel.invokeFunction('convertToInteractive',\n",
              "                                                     [key], {});\n",
              "          if (!dataTable) return;\n",
              "\n",
              "          const docLinkHtml = 'Like what you see? Visit the ' +\n",
              "            '<a target=\"_blank\" href=https://colab.research.google.com/notebooks/data_table.ipynb>data table notebook</a>'\n",
              "            + ' to learn more about interactive tables.';\n",
              "          element.innerHTML = '';\n",
              "          dataTable['output_type'] = 'display_data';\n",
              "          await google.colab.output.renderOutput(dataTable, element);\n",
              "          const docLink = document.createElement('div');\n",
              "          docLink.innerHTML = docLinkHtml;\n",
              "          element.appendChild(docLink);\n",
              "        }\n",
              "      </script>\n",
              "    </div>\n",
              "  </div>\n",
              "  "
            ]
          },
          "metadata": {},
          "execution_count": 86
        }
      ]
    },
    {
      "cell_type": "code",
      "source": [
        "dataset.info()\n",
        "dataset=dataset.iloc[:,1:]"
      ],
      "metadata": {
        "colab": {
          "base_uri": "https://localhost:8080/"
        },
        "id": "eoTBmCGCWtPj",
        "outputId": "ff22cb49-9a20-4207-83b7-27162de111e9"
      },
      "execution_count": 87,
      "outputs": [
        {
          "output_type": "stream",
          "name": "stdout",
          "text": [
            "<class 'pandas.core.frame.DataFrame'>\n",
            "RangeIndex: 3650 entries, 0 to 3649\n",
            "Data columns (total 2 columns):\n",
            " #   Column  Non-Null Count  Dtype         \n",
            "---  ------  --------------  -----         \n",
            " 0   Date    3650 non-null   datetime64[ns]\n",
            " 1   Temp    3650 non-null   float64       \n",
            "dtypes: datetime64[ns](1), float64(1)\n",
            "memory usage: 57.2 KB\n"
          ]
        }
      ]
    },
    {
      "cell_type": "code",
      "source": [
        "dataset.plot();"
      ],
      "metadata": {
        "colab": {
          "base_uri": "https://localhost:8080/",
          "height": 265
        },
        "id": "KipN9BcaWw9j",
        "outputId": "d604cee2-f36b-48fc-ad56-e035b6419554"
      },
      "execution_count": 88,
      "outputs": [
        {
          "output_type": "display_data",
          "data": {
            "text/plain": [
              "<Figure size 432x288 with 1 Axes>"
            ],
            "image/png": "[encoded data removed]"
          },
          "metadata": {
            "needs_background": "light"
          }
        }
      ]
    },
    {
      "cell_type": "markdown",
      "source": [
        "# Data pre-processing"
      ],
      "metadata": {
        "id": "YwxlPJ7WXuAr"
      }
    },
    {
      "cell_type": "code",
      "source": [
        "np.random.seed(7)"
      ],
      "metadata": {
        "id": "_9l4inm_YaMi"
      },
      "execution_count": 89,
      "outputs": []
    },
    {
      "cell_type": "code",
      "source": [
        "dataset = dataset[['Temp']].values"
      ],
      "metadata": {
        "id": "7R-pR4zYYfR_"
      },
      "execution_count": 90,
      "outputs": []
    },
    {
      "cell_type": "code",
      "source": [
        "dataset.shape"
      ],
      "metadata": {
        "colab": {
          "base_uri": "https://localhost:8080/"
        },
        "id": "g7jSr5i5Yii5",
        "outputId": "5c7da147-f8ed-4c78-e0b0-53b4e5374255"
      },
      "execution_count": 91,
      "outputs": [
        {
          "output_type": "execute_result",
          "data": {
            "text/plain": [
              "(3650, 1)"
            ]
          },
          "metadata": {},
          "execution_count": 91
        }
      ]
    },
    {
      "cell_type": "code",
      "source": [
        "dataset[:10]"
      ],
      "metadata": {
        "colab": {
          "base_uri": "https://localhost:8080/"
        },
        "id": "5O2dYhMJYlYz",
        "outputId": "8d632632-7782-43d8-8b96-04ba1ef65830"
      },
      "execution_count": 92,
      "outputs": [
        {
          "output_type": "execute_result",
          "data": {
            "text/plain": [
              "array([[20.7],\n",
              "       [17.9],\n",
              "       [18.8],\n",
              "       [14.6],\n",
              "       [15.8],\n",
              "       [15.8],\n",
              "       [15.8],\n",
              "       [17.4],\n",
              "       [21.8],\n",
              "       [20. ]])"
            ]
          },
          "metadata": {},
          "execution_count": 92
        }
      ]
    },
    {
      "cell_type": "code",
      "source": [
        "scaler = MinMaxScaler(feature_range=(0, 1))\n",
        "dataset = scaler.fit_transform(dataset)"
      ],
      "metadata": {
        "id": "AaKtfL-bYoRy"
      },
      "execution_count": 93,
      "outputs": []
    },
    {
      "cell_type": "code",
      "source": [
        "train_size = int(len(dataset) * 0.67)\n",
        "test_size = len(dataset) - train_size\n",
        "train, test = dataset[0:train_size,:], dataset[train_size:len(dataset),:]\n",
        "print(len(train), len(test))"
      ],
      "metadata": {
        "colab": {
          "base_uri": "https://localhost:8080/"
        },
        "id": "UE-DuH3KYrpi",
        "outputId": "e697636d-483b-45cd-d582-b537edc3bc25"
      },
      "execution_count": 94,
      "outputs": [
        {
          "output_type": "stream",
          "name": "stdout",
          "text": [
            "2445 1205\n"
          ]
        }
      ]
    },
    {
      "cell_type": "code",
      "source": [
        "def create_dataset(dataset, look_back=1):\n",
        "    dataX, dataY = [], []\n",
        "    for i in range(len(dataset)-look_back-1):\n",
        "        a = dataset[i:(i+look_back), 0]\n",
        "        dataX.append(a)\n",
        "        dataY.append(dataset[i + look_back, 0])\n",
        "    return np.array(dataX), np.array(dataY)"
      ],
      "metadata": {
        "id": "CSzwiu5AYvdX"
      },
      "execution_count": 95,
      "outputs": []
    },
    {
      "cell_type": "code",
      "source": [
        "look_back = 2\n",
        "trainX, trainY = create_dataset(train, look_back)\n",
        "testX, testY = create_dataset(test, look_back)"
      ],
      "metadata": {
        "id": "ox7Iwt6TYyws"
      },
      "execution_count": 96,
      "outputs": []
    },
    {
      "cell_type": "code",
      "source": [
        "trainX = np.reshape(trainX, (trainX.shape[0], trainX.shape[1], 1))\n",
        "testX = np.reshape(testX, (testX.shape[0] , testX.shape[1], 1))"
      ],
      "metadata": {
        "id": "g1o-AECZY9J_"
      },
      "execution_count": 97,
      "outputs": []
    },
    {
      "cell_type": "code",
      "source": [
        "trainX.shape"
      ],
      "metadata": {
        "colab": {
          "base_uri": "https://localhost:8080/"
        },
        "id": "q0Ia_d5iZAsZ",
        "outputId": "836ba4c3-e1c1-4386-fb62-ad6aab7ce3e4"
      },
      "execution_count": 98,
      "outputs": [
        {
          "output_type": "execute_result",
          "data": {
            "text/plain": [
              "(2442, 2, 1)"
            ]
          },
          "metadata": {},
          "execution_count": 98
        }
      ]
    },
    {
      "cell_type": "markdown",
      "source": [
        "# LSTM Neural Network"
      ],
      "metadata": {
        "id": "ex2c6-UMZGmP"
      }
    },
    {
      "cell_type": "code",
      "source": [
        "model = Sequential()\n",
        "model.add(LSTM(4, input_shape=(look_back, 1)))\n",
        "\n",
        "model.add(Dense(1))\n",
        "\n",
        "# Compile the model\n",
        "model.compile(loss='mean_squared_error', optimizer='adam', metrics=['mse'])\n",
        "\n",
        "\n",
        "# Tain the model\n",
        "start = time.time()\n",
        "model.fit(trainX, trainY, \n",
        "          epochs=100, \n",
        "          batch_size=1, \n",
        "          verbose=1, shuffle=False, \n",
        "          validation_data=(testX, testY))\n",
        "          \n",
        "end = time.time()\n",
        "\n",
        "print (\"Model took %0.2f seconds to train\"%(end - start))"
      ],
      "metadata": {
        "colab": {
          "base_uri": "https://localhost:8080/"
        },
        "id": "uGhfuTzvZJwL",
        "outputId": "243cfad1-39a9-40aa-9740-25b5d58e15b6"
      },
      "execution_count": 99,
      "outputs": [
        {
          "output_type": "stream",
          "name": "stdout",
          "text": [
            "Epoch 1/100\n",
            "2442/2442 [==============================] - 9s 3ms/step - loss: 0.0211 - mse: 0.0211 - val_loss: 0.0260 - val_mse: 0.0260\n",
            "Epoch 2/100\n",
            "2442/2442 [==============================] - 6s 2ms/step - loss: 0.0107 - mse: 0.0107 - val_loss: 0.0210 - val_mse: 0.0210\n",
            "Epoch 3/100\n",
            "2442/2442 [==============================] - 6s 3ms/step - loss: 0.0103 - mse: 0.0103 - val_loss: 0.0194 - val_mse: 0.0194\n",
            "Epoch 4/100\n",
            "2442/2442 [==============================] - 6s 3ms/step - loss: 0.0101 - mse: 0.0101 - val_loss: 0.0185 - val_mse: 0.0185\n",
            "Epoch 5/100\n",
            "2442/2442 [==============================] - 7s 3ms/step - loss: 0.0098 - mse: 0.0098 - val_loss: 0.0186 - val_mse: 0.0186\n",
            "Epoch 6/100\n",
            "2442/2442 [==============================] - 7s 3ms/step - loss: 0.0094 - mse: 0.0094 - val_loss: 0.0184 - val_mse: 0.0184\n",
            "Epoch 7/100\n",
            "2442/2442 [==============================] - 6s 2ms/step - loss: 0.0093 - mse: 0.0093 - val_loss: 0.0180 - val_mse: 0.0180\n",
            "Epoch 8/100\n",
            "2442/2442 [==============================] - 6s 2ms/step - loss: 0.0093 - mse: 0.0093 - val_loss: 0.0178 - val_mse: 0.0178\n",
            "Epoch 9/100\n",
            "2442/2442 [==============================] - 6s 2ms/step - loss: 0.0093 - mse: 0.0093 - val_loss: 0.0177 - val_mse: 0.0177\n",
            "Epoch 10/100\n",
            "2442/2442 [==============================] - 6s 3ms/step - loss: 0.0093 - mse: 0.0093 - val_loss: 0.0175 - val_mse: 0.0175\n",
            "Epoch 11/100\n",
            "2442/2442 [==============================] - 6s 2ms/step - loss: 0.0093 - mse: 0.0093 - val_loss: 0.0173 - val_mse: 0.0173\n",
            "Epoch 12/100\n",
            "2442/2442 [==============================] - 7s 3ms/step - loss: 0.0093 - mse: 0.0093 - val_loss: 0.0171 - val_mse: 0.0171\n",
            "Epoch 13/100\n",
            "2442/2442 [==============================] - 6s 3ms/step - loss: 0.0093 - mse: 0.0093 - val_loss: 0.0169 - val_mse: 0.0169\n",
            "Epoch 14/100\n",
            "2442/2442 [==============================] - 6s 3ms/step - loss: 0.0093 - mse: 0.0093 - val_loss: 0.0167 - val_mse: 0.0167\n",
            "Epoch 15/100\n",
            "2442/2442 [==============================] - 6s 2ms/step - loss: 0.0093 - mse: 0.0093 - val_loss: 0.0165 - val_mse: 0.0165\n",
            "Epoch 16/100\n",
            "2442/2442 [==============================] - 6s 3ms/step - loss: 0.0094 - mse: 0.0094 - val_loss: 0.0163 - val_mse: 0.0163\n",
            "Epoch 17/100\n",
            "2442/2442 [==============================] - 7s 3ms/step - loss: 0.0094 - mse: 0.0094 - val_loss: 0.0162 - val_mse: 0.0162\n",
            "Epoch 18/100\n",
            "2442/2442 [==============================] - 6s 2ms/step - loss: 0.0094 - mse: 0.0094 - val_loss: 0.0160 - val_mse: 0.0160\n",
            "Epoch 19/100\n",
            "2442/2442 [==============================] - 7s 3ms/step - loss: 0.0094 - mse: 0.0094 - val_loss: 0.0158 - val_mse: 0.0158\n",
            "Epoch 20/100\n",
            "2442/2442 [==============================] - 6s 2ms/step - loss: 0.0094 - mse: 0.0094 - val_loss: 0.0157 - val_mse: 0.0157\n",
            "Epoch 21/100\n",
            "2442/2442 [==============================] - 6s 3ms/step - loss: 0.0094 - mse: 0.0094 - val_loss: 0.0155 - val_mse: 0.0155\n",
            "Epoch 22/100\n",
            "2442/2442 [==============================] - 7s 3ms/step - loss: 0.0094 - mse: 0.0094 - val_loss: 0.0154 - val_mse: 0.0154\n",
            "Epoch 23/100\n",
            "2442/2442 [==============================] - 6s 3ms/step - loss: 0.0094 - mse: 0.0094 - val_loss: 0.0152 - val_mse: 0.0152\n",
            "Epoch 24/100\n",
            "2442/2442 [==============================] - 6s 3ms/step - loss: 0.0094 - mse: 0.0094 - val_loss: 0.0151 - val_mse: 0.0151\n",
            "Epoch 25/100\n",
            "2442/2442 [==============================] - 8s 3ms/step - loss: 0.0094 - mse: 0.0094 - val_loss: 0.0150 - val_mse: 0.0150\n",
            "Epoch 26/100\n",
            "2442/2442 [==============================] - 6s 3ms/step - loss: 0.0094 - mse: 0.0094 - val_loss: 0.0149 - val_mse: 0.0149\n",
            "Epoch 27/100\n",
            "2442/2442 [==============================] - 6s 3ms/step - loss: 0.0094 - mse: 0.0094 - val_loss: 0.0147 - val_mse: 0.0147\n",
            "Epoch 28/100\n",
            "2442/2442 [==============================] - 6s 3ms/step - loss: 0.0094 - mse: 0.0094 - val_loss: 0.0146 - val_mse: 0.0146\n",
            "Epoch 29/100\n",
            "2442/2442 [==============================] - 6s 2ms/step - loss: 0.0095 - mse: 0.0095 - val_loss: 0.0145 - val_mse: 0.0145\n",
            "Epoch 30/100\n",
            "2442/2442 [==============================] - 7s 3ms/step - loss: 0.0095 - mse: 0.0095 - val_loss: 0.0144 - val_mse: 0.0144\n",
            "Epoch 31/100\n",
            "2442/2442 [==============================] - 8s 3ms/step - loss: 0.0095 - mse: 0.0095 - val_loss: 0.0143 - val_mse: 0.0143\n",
            "Epoch 32/100\n",
            "2442/2442 [==============================] - 8s 3ms/step - loss: 0.0095 - mse: 0.0095 - val_loss: 0.0143 - val_mse: 0.0143\n",
            "Epoch 33/100\n",
            "2442/2442 [==============================] - 7s 3ms/step - loss: 0.0095 - mse: 0.0095 - val_loss: 0.0142 - val_mse: 0.0142\n",
            "Epoch 34/100\n",
            "2442/2442 [==============================] - 6s 3ms/step - loss: 0.0095 - mse: 0.0095 - val_loss: 0.0141 - val_mse: 0.0141\n",
            "Epoch 35/100\n",
            "2442/2442 [==============================] - 7s 3ms/step - loss: 0.0095 - mse: 0.0095 - val_loss: 0.0141 - val_mse: 0.0141\n",
            "Epoch 36/100\n",
            "2442/2442 [==============================] - 6s 2ms/step - loss: 0.0095 - mse: 0.0095 - val_loss: 0.0140 - val_mse: 0.0140\n",
            "Epoch 37/100\n",
            "2442/2442 [==============================] - 6s 3ms/step - loss: 0.0095 - mse: 0.0095 - val_loss: 0.0140 - val_mse: 0.0140\n",
            "Epoch 38/100\n",
            "2442/2442 [==============================] - 6s 2ms/step - loss: 0.0095 - mse: 0.0095 - val_loss: 0.0139 - val_mse: 0.0139\n",
            "Epoch 39/100\n",
            "2442/2442 [==============================] - 6s 2ms/step - loss: 0.0095 - mse: 0.0095 - val_loss: 0.0139 - val_mse: 0.0139\n",
            "Epoch 40/100\n",
            "2442/2442 [==============================] - 6s 3ms/step - loss: 0.0095 - mse: 0.0095 - val_loss: 0.0138 - val_mse: 0.0138\n",
            "Epoch 41/100\n",
            "2442/2442 [==============================] - 7s 3ms/step - loss: 0.0095 - mse: 0.0095 - val_loss: 0.0138 - val_mse: 0.0138\n",
            "Epoch 42/100\n",
            "2442/2442 [==============================] - 7s 3ms/step - loss: 0.0095 - mse: 0.0095 - val_loss: 0.0137 - val_mse: 0.0137\n",
            "Epoch 43/100\n",
            "2442/2442 [==============================] - 8s 3ms/step - loss: 0.0095 - mse: 0.0095 - val_loss: 0.0137 - val_mse: 0.0137\n",
            "Epoch 44/100\n",
            "2442/2442 [==============================] - 6s 2ms/step - loss: 0.0095 - mse: 0.0095 - val_loss: 0.0137 - val_mse: 0.0137\n",
            "Epoch 45/100\n",
            "2442/2442 [==============================] - 7s 3ms/step - loss: 0.0095 - mse: 0.0095 - val_loss: 0.0136 - val_mse: 0.0136\n",
            "Epoch 46/100\n",
            "2442/2442 [==============================] - 8s 3ms/step - loss: 0.0095 - mse: 0.0095 - val_loss: 0.0136 - val_mse: 0.0136\n",
            "Epoch 47/100\n",
            "2442/2442 [==============================] - 7s 3ms/step - loss: 0.0095 - mse: 0.0095 - val_loss: 0.0135 - val_mse: 0.0135\n",
            "Epoch 48/100\n",
            "2442/2442 [==============================] - 7s 3ms/step - loss: 0.0095 - mse: 0.0095 - val_loss: 0.0135 - val_mse: 0.0135\n",
            "Epoch 49/100\n",
            "2442/2442 [==============================] - 6s 3ms/step - loss: 0.0095 - mse: 0.0095 - val_loss: 0.0135 - val_mse: 0.0135\n",
            "Epoch 50/100\n",
            "2442/2442 [==============================] - 6s 3ms/step - loss: 0.0095 - mse: 0.0095 - val_loss: 0.0134 - val_mse: 0.0134\n",
            "Epoch 51/100\n",
            "2442/2442 [==============================] - 8s 3ms/step - loss: 0.0095 - mse: 0.0095 - val_loss: 0.0134 - val_mse: 0.0134\n",
            "Epoch 52/100\n",
            "2442/2442 [==============================] - 8s 3ms/step - loss: 0.0095 - mse: 0.0095 - val_loss: 0.0134 - val_mse: 0.0134\n",
            "Epoch 53/100\n",
            "2442/2442 [==============================] - 7s 3ms/step - loss: 0.0095 - mse: 0.0095 - val_loss: 0.0133 - val_mse: 0.0133\n",
            "Epoch 54/100\n",
            "2442/2442 [==============================] - 6s 3ms/step - loss: 0.0095 - mse: 0.0095 - val_loss: 0.0133 - val_mse: 0.0133\n",
            "Epoch 55/100\n",
            "2442/2442 [==============================] - 6s 2ms/step - loss: 0.0095 - mse: 0.0095 - val_loss: 0.0133 - val_mse: 0.0133\n",
            "Epoch 56/100\n",
            "2442/2442 [==============================] - 6s 2ms/step - loss: 0.0095 - mse: 0.0095 - val_loss: 0.0133 - val_mse: 0.0133\n",
            "Epoch 57/100\n",
            "2442/2442 [==============================] - 6s 2ms/step - loss: 0.0095 - mse: 0.0095 - val_loss: 0.0132 - val_mse: 0.0132\n",
            "Epoch 58/100\n",
            "2442/2442 [==============================] - 8s 3ms/step - loss: 0.0095 - mse: 0.0095 - val_loss: 0.0132 - val_mse: 0.0132\n",
            "Epoch 59/100\n",
            "2442/2442 [==============================] - 7s 3ms/step - loss: 0.0095 - mse: 0.0095 - val_loss: 0.0132 - val_mse: 0.0132\n",
            "Epoch 60/100\n",
            "2442/2442 [==============================] - 6s 2ms/step - loss: 0.0095 - mse: 0.0095 - val_loss: 0.0131 - val_mse: 0.0131\n",
            "Epoch 61/100\n",
            "2442/2442 [==============================] - 6s 2ms/step - loss: 0.0095 - mse: 0.0095 - val_loss: 0.0131 - val_mse: 0.0131\n",
            "Epoch 62/100\n",
            "2442/2442 [==============================] - 6s 2ms/step - loss: 0.0095 - mse: 0.0095 - val_loss: 0.0131 - val_mse: 0.0131\n",
            "Epoch 63/100\n",
            "2442/2442 [==============================] - 6s 2ms/step - loss: 0.0095 - mse: 0.0095 - val_loss: 0.0131 - val_mse: 0.0131\n",
            "Epoch 64/100\n",
            "2442/2442 [==============================] - 7s 3ms/step - loss: 0.0095 - mse: 0.0095 - val_loss: 0.0130 - val_mse: 0.0130\n",
            "Epoch 65/100\n",
            "2442/2442 [==============================] - 7s 3ms/step - loss: 0.0095 - mse: 0.0095 - val_loss: 0.0130 - val_mse: 0.0130\n",
            "Epoch 66/100\n",
            "2442/2442 [==============================] - 6s 3ms/step - loss: 0.0095 - mse: 0.0095 - val_loss: 0.0130 - val_mse: 0.0130\n",
            "Epoch 67/100\n",
            "2442/2442 [==============================] - 7s 3ms/step - loss: 0.0095 - mse: 0.0095 - val_loss: 0.0130 - val_mse: 0.0130\n",
            "Epoch 68/100\n",
            "2442/2442 [==============================] - 6s 3ms/step - loss: 0.0095 - mse: 0.0095 - val_loss: 0.0129 - val_mse: 0.0129\n",
            "Epoch 69/100\n",
            "2442/2442 [==============================] - 6s 2ms/step - loss: 0.0095 - mse: 0.0095 - val_loss: 0.0129 - val_mse: 0.0129\n",
            "Epoch 70/100\n",
            "2442/2442 [==============================] - 6s 3ms/step - loss: 0.0095 - mse: 0.0095 - val_loss: 0.0129 - val_mse: 0.0129\n",
            "Epoch 71/100\n",
            "2442/2442 [==============================] - 7s 3ms/step - loss: 0.0095 - mse: 0.0095 - val_loss: 0.0129 - val_mse: 0.0129\n",
            "Epoch 72/100\n",
            "2442/2442 [==============================] - 7s 3ms/step - loss: 0.0095 - mse: 0.0095 - val_loss: 0.0129 - val_mse: 0.0129\n",
            "Epoch 73/100\n",
            "2442/2442 [==============================] - 6s 3ms/step - loss: 0.0095 - mse: 0.0095 - val_loss: 0.0128 - val_mse: 0.0128\n",
            "Epoch 74/100\n",
            "2442/2442 [==============================] - 8s 3ms/step - loss: 0.0095 - mse: 0.0095 - val_loss: 0.0128 - val_mse: 0.0128\n",
            "Epoch 75/100\n",
            "2442/2442 [==============================] - 6s 3ms/step - loss: 0.0095 - mse: 0.0095 - val_loss: 0.0128 - val_mse: 0.0128\n",
            "Epoch 76/100\n",
            "2442/2442 [==============================] - 8s 3ms/step - loss: 0.0095 - mse: 0.0095 - val_loss: 0.0128 - val_mse: 0.0128\n",
            "Epoch 77/100\n",
            "2442/2442 [==============================] - 6s 3ms/step - loss: 0.0095 - mse: 0.0095 - val_loss: 0.0128 - val_mse: 0.0128\n",
            "Epoch 78/100\n",
            "2442/2442 [==============================] - 8s 3ms/step - loss: 0.0095 - mse: 0.0095 - val_loss: 0.0127 - val_mse: 0.0127\n",
            "Epoch 79/100\n",
            "2442/2442 [==============================] - 8s 3ms/step - loss: 0.0095 - mse: 0.0095 - val_loss: 0.0127 - val_mse: 0.0127\n",
            "Epoch 80/100\n",
            "2442/2442 [==============================] - 6s 3ms/step - loss: 0.0095 - mse: 0.0095 - val_loss: 0.0127 - val_mse: 0.0127\n",
            "Epoch 81/100\n",
            "2442/2442 [==============================] - 6s 3ms/step - loss: 0.0095 - mse: 0.0095 - val_loss: 0.0127 - val_mse: 0.0127\n",
            "Epoch 82/100\n",
            "2442/2442 [==============================] - 7s 3ms/step - loss: 0.0095 - mse: 0.0095 - val_loss: 0.0127 - val_mse: 0.0127\n",
            "Epoch 83/100\n",
            "2442/2442 [==============================] - 6s 2ms/step - loss: 0.0095 - mse: 0.0095 - val_loss: 0.0126 - val_mse: 0.0126\n",
            "Epoch 84/100\n",
            "2442/2442 [==============================] - 7s 3ms/step - loss: 0.0095 - mse: 0.0095 - val_loss: 0.0126 - val_mse: 0.0126\n",
            "Epoch 85/100\n",
            "2442/2442 [==============================] - 6s 3ms/step - loss: 0.0095 - mse: 0.0095 - val_loss: 0.0126 - val_mse: 0.0126\n",
            "Epoch 86/100\n",
            "2442/2442 [==============================] - 6s 3ms/step - loss: 0.0095 - mse: 0.0095 - val_loss: 0.0126 - val_mse: 0.0126\n",
            "Epoch 87/100\n",
            "2442/2442 [==============================] - 6s 3ms/step - loss: 0.0095 - mse: 0.0095 - val_loss: 0.0126 - val_mse: 0.0126\n",
            "Epoch 88/100\n",
            "2442/2442 [==============================] - 8s 3ms/step - loss: 0.0095 - mse: 0.0095 - val_loss: 0.0125 - val_mse: 0.0125\n",
            "Epoch 89/100\n",
            "2442/2442 [==============================] - 6s 2ms/step - loss: 0.0095 - mse: 0.0095 - val_loss: 0.0125 - val_mse: 0.0125\n",
            "Epoch 90/100\n",
            "2442/2442 [==============================] - 6s 3ms/step - loss: 0.0095 - mse: 0.0095 - val_loss: 0.0125 - val_mse: 0.0125\n",
            "Epoch 91/100\n",
            "2442/2442 [==============================] - 6s 3ms/step - loss: 0.0095 - mse: 0.0095 - val_loss: 0.0125 - val_mse: 0.0125\n",
            "Epoch 92/100\n",
            "2442/2442 [==============================] - 7s 3ms/step - loss: 0.0095 - mse: 0.0095 - val_loss: 0.0125 - val_mse: 0.0125\n",
            "Epoch 93/100\n",
            "2442/2442 [==============================] - 6s 3ms/step - loss: 0.0095 - mse: 0.0095 - val_loss: 0.0125 - val_mse: 0.0125\n",
            "Epoch 94/100\n",
            "2442/2442 [==============================] - 8s 3ms/step - loss: 0.0095 - mse: 0.0095 - val_loss: 0.0124 - val_mse: 0.0124\n",
            "Epoch 95/100\n",
            "2442/2442 [==============================] - 7s 3ms/step - loss: 0.0095 - mse: 0.0095 - val_loss: 0.0124 - val_mse: 0.0124\n",
            "Epoch 96/100\n",
            "2442/2442 [==============================] - 6s 3ms/step - loss: 0.0095 - mse: 0.0095 - val_loss: 0.0124 - val_mse: 0.0124\n",
            "Epoch 97/100\n",
            "2442/2442 [==============================] - 8s 3ms/step - loss: 0.0095 - mse: 0.0095 - val_loss: 0.0124 - val_mse: 0.0124\n",
            "Epoch 98/100\n",
            "2442/2442 [==============================] - 6s 3ms/step - loss: 0.0095 - mse: 0.0095 - val_loss: 0.0124 - val_mse: 0.0124\n",
            "Epoch 99/100\n",
            "2442/2442 [==============================] - 8s 3ms/step - loss: 0.0095 - mse: 0.0095 - val_loss: 0.0124 - val_mse: 0.0124\n",
            "Epoch 100/100\n",
            "2442/2442 [==============================] - 7s 3ms/step - loss: 0.0095 - mse: 0.0095 - val_loss: 0.0123 - val_mse: 0.0123\n",
            "Model took 683.43 seconds to train\n"
          ]
        }
      ]
    },
    {
      "cell_type": "markdown",
      "source": [
        "# Compute RMSE"
      ],
      "metadata": {
        "id": "fmvKUaXJZYj3"
      }
    },
    {
      "cell_type": "code",
      "source": [
        "# make predictions\n",
        "trainPredict = model.predict(trainX)\n",
        "testPredict = model.predict(testX)\n",
        "# invert predictions\n",
        "trainPredict = scaler.inverse_transform(trainPredict)\n",
        "trainY = scaler.inverse_transform([trainY])\n",
        "testPredict = scaler.inverse_transform(testPredict)\n",
        "testY = scaler.inverse_transform([testY])\n",
        "# calculate root mean squared error\n",
        "trainScore = math.sqrt(mean_squared_error(trainY[0,:], trainPredict[:,0]))\n",
        "print('Train Score: %.2f RMSE' % (trainScore))\n",
        "testScore = math.sqrt(mean_squared_error(testY[0], testPredict[:,0]))\n",
        "print('Test Score: %.2f RMSE' % (testScore))"
      ],
      "metadata": {
        "colab": {
          "base_uri": "https://localhost:8080/"
        },
        "id": "F6aPlRfMZbsj",
        "outputId": "5ff620ca-af82-42d4-bc58-16eb12351bb2"
      },
      "execution_count": 100,
      "outputs": [
        {
          "output_type": "stream",
          "name": "stdout",
          "text": [
            "Train Score: 2.91 RMSE\n",
            "Test Score: 2.92 RMSE\n"
          ]
        }
      ]
    },
    {
      "cell_type": "code",
      "source": [
        "testScoreList=[]\n",
        "\n",
        "\n",
        "for i in range(3):\n",
        "    testScoreList.append([math.sqrt(mean_squared_error(testY[0][i*365:i*365+90], testPredict[i*365:i*365+90])),\n",
        "                          math.sqrt(mean_squared_error(testY[0][i*365:i*365+180], testPredict[i*365:i*365+180])),\n",
        "                          math.sqrt(mean_squared_error(testY[0][i*365:i*365+365], testPredict[i*365:i*365+365]))])\n",
        "testScoreList"
      ],
      "metadata": {
        "colab": {
          "base_uri": "https://localhost:8080/"
        },
        "id": "daim6x4XGdG5",
        "outputId": "07182f94-e28d-4ee2-d12a-9ac066ad061d"
      },
      "execution_count": 110,
      "outputs": [
        {
          "output_type": "execute_result",
          "data": {
            "text/plain": [
              "[[3.1822548780754367, 3.274830902746341, 2.8814539689050305],\n",
              " [3.442063268113908, 3.6619720178999455, 3.020209628112643],\n",
              " [2.889831917064081, 3.1400473797010884, 2.782745552023449]]"
            ]
          },
          "metadata": {},
          "execution_count": 110
        }
      ]
    },
    {
      "cell_type": "code",
      "source": [
        "%matplotlib inline\n",
        "# shift train predictions for plotting\n",
        "trainPredictPlot = np.empty_like(dataset)\n",
        "trainPredictPlot[:, :] = np.nan\n",
        "trainPredictPlot[look_back:len(trainPredict)+look_back, :] = trainPredict\n",
        "# shift test predictions for plotting\n",
        "testPredictPlot = np.empty_like(dataset)\n",
        "testPredictPlot[:, :] = np.nan\n",
        "testPredictPlot[len(trainPredict)+(look_back*2)+1:len(dataset)-1, :] = testPredict\n",
        "# plot baseline and predictions\n",
        "plt.figure(figsize= [15, 5])\n",
        "plt.plot(scaler.inverse_transform(dataset))\n",
        "plt.plot(trainPredictPlot, color='green', linestyle='dashed')\n",
        "plt.plot(testPredictPlot, color='red')\n",
        "plt.ylabel('Min Temp ℃')\n",
        "plt.xticks([])\n",
        "#original dataset in blue \n",
        "#predictions for the training dataset in green\n",
        "#predictions on the unseen test dataset in red\n",
        "plt.legend([\"Original data\",\"Predictions on taining data\",\"Predictions on test data\"])\n",
        "plt.show()"
      ],
      "metadata": {
        "colab": {
          "base_uri": "https://localhost:8080/",
          "height": 306
        },
        "id": "L6ikwtu3_QP0",
        "outputId": "a922c8ba-2c08-4d0a-af58-d3bcc7085d4c"
      },
      "execution_count": 117,
      "outputs": [
        {
          "output_type": "display_data",
          "data": {
            "text/plain": [
              "<Figure size 1080x360 with 1 Axes>"
            ],
            "image/png": "[encoded data removed]"
          },
          "metadata": {
            "needs_background": "light"
          }
        }
      ]
    },
    {
      "cell_type": "markdown",
      "source": [
        "## RESULTATS"
      ],
      "metadata": {
        "id": "wrnSOlmEfJNc"
      }
    },
    {
      "cell_type": "markdown",
      "source": [
        "|   **Evaluation year** \t| **Next 3 months** \t| **Next 6 months** \t| **Next 12 months** \t|\n",
        "|:---------------------:\t|:-----------------:\t|:-----------------:\t|:------------------:\t|\n",
        "|        **1987**       \t|       rmse =  3.182\t|    rmse =  3.274    \t|     rmse =  2.881    \t|\n",
        "|        **1988**       \t|       rmse =  3.442 \t|    rmse =  3.661    \t|        rmse =  3.020 \t|\n",
        "|        **1989**       \t|       rmse =  2.889 \t|     rmse =  3.140   \t|         rmse =  2.782  \t|"
      ],
      "metadata": {
        "id": "wSHT702FwrfF"
      }
    }
  ]
}